{
 "cells": [
  {
   "cell_type": "markdown",
   "id": "5647c767-84be-4c31-8a5a-bf4da1cbc83a",
   "metadata": {},
   "source": [
    "### Funkcje tworzymy używając słowa \"def\". Przykładowa funkcja ponizej"
   ]
  },
  {
   "cell_type": "code",
   "execution_count": 15,
   "id": "fc0e6e53-32aa-4b82-b6a2-b070a09f839c",
   "metadata": {},
   "outputs": [],
   "source": [
    "def dodawanie(a,b):\n",
    "    return a+b"
   ]
  },
  {
   "cell_type": "markdown",
   "id": "5ad5a440-c9a2-418e-b233-af9556f44520",
   "metadata": {},
   "source": [
    "### Wywołujemy tą funkcję w taki sposób"
   ]
  },
  {
   "cell_type": "code",
   "execution_count": 16,
   "id": "6fc23240-12f4-4c08-a469-74db61a264dc",
   "metadata": {},
   "outputs": [
    {
     "name": "stdout",
     "output_type": "stream",
     "text": [
      "13\n"
     ]
    }
   ],
   "source": [
    "wynik = dodawanie(5,8)\n",
    "print(wynik)"
   ]
  },
  {
   "cell_type": "code",
   "execution_count": null,
   "id": "d2f21373-727a-4edc-86c4-6912ecfb8c1a",
   "metadata": {},
   "outputs": [],
   "source": []
  }
 ],
 "metadata": {
  "kernelspec": {
   "display_name": "Python 3 (ipykernel)",
   "language": "python",
   "name": "python3"
  },
  "language_info": {
   "codemirror_mode": {
    "name": "ipython",
    "version": 3
   },
   "file_extension": ".py",
   "mimetype": "text/x-python",
   "name": "python",
   "nbconvert_exporter": "python",
   "pygments_lexer": "ipython3",
   "version": "3.11.8"
  }
 },
 "nbformat": 4,
 "nbformat_minor": 5
}
